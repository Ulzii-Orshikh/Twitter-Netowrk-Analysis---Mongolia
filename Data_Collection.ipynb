{
 "metadata": {
  "language_info": {
   "codemirror_mode": {
    "name": "ipython",
    "version": 3
   },
   "file_extension": ".py",
   "mimetype": "text/x-python",
   "name": "python",
   "nbconvert_exporter": "python",
   "pygments_lexer": "ipython3",
   "version": "3.9.4-final"
  },
  "orig_nbformat": 2,
  "kernelspec": {
   "name": "python394jvsc74a57bd0d1f59a5e17996ed134e5014b7b470e825b9a21953078d28b50f185595e9831d7",
   "display_name": "Python 3.9.4 64-bit"
  },
  "metadata": {
   "interpreter": {
    "hash": "d1f59a5e17996ed134e5014b7b470e825b9a21953078d28b50f185595e9831d7"
   }
  }
 },
 "nbformat": 4,
 "nbformat_minor": 2,
 "cells": [
  {
   "cell_type": "code",
   "execution_count": 196,
   "metadata": {},
   "outputs": [],
   "source": [
    "import twint\n",
    "import pandas as pd"
   ]
  },
  {
   "cell_type": "code",
   "execution_count": 197,
   "metadata": {},
   "outputs": [],
   "source": [
    "data = pd.read_csv('Enkhboldz.csv')\n",
    "df = pd.DataFrame(data)"
   ]
  },
  {
   "cell_type": "code",
   "execution_count": 198,
   "metadata": {},
   "outputs": [
    {
     "output_type": "execute_result",
     "data": {
      "text/plain": [
       "Index(['username', 'tweet'], dtype='object')"
      ]
     },
     "metadata": {},
     "execution_count": 198
    }
   ],
   "source": [
    "df.shape\n",
    "df.columns"
   ]
  },
  {
   "cell_type": "code",
   "execution_count": 199,
   "metadata": {},
   "outputs": [],
   "source": [
    "my_series = pd.Series(df.tweet)"
   ]
  },
  {
   "cell_type": "code",
   "execution_count": 200,
   "metadata": {},
   "outputs": [],
   "source": [
    "users = pd.read_csv('top30_users.csv')"
   ]
  },
  {
   "cell_type": "code",
   "execution_count": 201,
   "metadata": {},
   "outputs": [],
   "source": [
    "cleaned = [n for n in my_series]"
   ]
  },
  {
   "cell_type": "code",
   "execution_count": 202,
   "metadata": {},
   "outputs": [],
   "source": [
    "mentioned = []\n",
    "for user in users.Users:\n",
    "    if user in str(cleaned):\n",
    "        mentioned.append(user)\n",
    "    elif user.lower() in str(cleaned):\n",
    "        mentioned.append(user)"
   ]
  },
  {
   "cell_type": "code",
   "execution_count": 203,
   "metadata": {},
   "outputs": [
    {
     "output_type": "execute_result",
     "data": {
      "text/plain": [
       "['BattulgaKh',\n",
       " 'elbegdorj',\n",
       " 'jargal_defacto',\n",
       " 'enkhbat',\n",
       " 'ganhuyag',\n",
       " 'OtgonbayarY',\n",
       " 'tsbat_IT',\n",
       " 'enkhamgalanmp',\n",
       " 'TsogtgerelB',\n",
       " 'UKhurelsukh',\n",
       " 'ts_baatarkhuu']"
      ]
     },
     "metadata": {},
     "execution_count": 203
    }
   ],
   "source": [
    "mentioned"
   ]
  },
  {
   "cell_type": "code",
   "execution_count": 204,
   "metadata": {},
   "outputs": [
    {
     "output_type": "execute_result",
     "data": {
      "text/plain": [
       "11"
      ]
     },
     "metadata": {},
     "execution_count": 204
    }
   ],
   "source": [
    "len(mentioned)"
   ]
  },
  {
   "cell_type": "code",
   "execution_count": null,
   "metadata": {},
   "outputs": [],
   "source": []
  }
 ]
}